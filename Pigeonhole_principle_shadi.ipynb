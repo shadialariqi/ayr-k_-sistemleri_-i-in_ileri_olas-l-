{
  "nbformat": 4,
  "nbformat_minor": 0,
  "metadata": {
    "colab": {
      "provenance": [],
      "authorship_tag": "ABX9TyNvrt7JyMszBDS2YuRb61+6",
      "include_colab_link": true
    },
    "kernelspec": {
      "name": "python3",
      "display_name": "Python 3"
    },
    "language_info": {
      "name": "python"
    }
  },
  "cells": [
    {
      "cell_type": "markdown",
      "metadata": {
        "id": "view-in-github",
        "colab_type": "text"
      },
      "source": [
        "<a href=\"https://colab.research.google.com/github/shadialariqi/ayr-k_-sistemleri_-i-in_ileri_olas-l-/blob/main/Pigeonhole_principle_shadi.ipynb\" target=\"_parent\"><img src=\"https://colab.research.google.com/assets/colab-badge.svg\" alt=\"Open In Colab\"/></a>"
      ]
    },
    {
      "cell_type": "code",
      "execution_count": null,
      "metadata": {
        "id": "1KPaVg2snBTD"
      },
      "outputs": [],
      "source": []
    },
    {
      "cell_type": "markdown",
      "source": [
        "# **The pigeonhole principle**\n",
        "\n",
        "The pigeonhole principle states that if n items are put into m containers, with n > m, then at least one container must contain more than one item.\n",
        "\n",
        "***Homwork 1***\n",
        "\n",
        "***proplem***\n",
        "\n",
        "Suppose we have 40 workers in a factory and we want to prove that more than one worker's names start with the same letter.\n",
        "\n",
        "•   ***the number of workers is the pigeon(n)***\n",
        "\n",
        "•   ***the alphabet English are 26 pigeonholes (m)***\n",
        "Workers=40\n",
        "Alphabet=26\n",
        "\n",
        "Output= workers% alphabet\n",
        "\n",
        "Resualt = ceil (workers/alphabet)\n",
        "\n",
        "Now if the number of workers less than the number of alphabets the pigeonhole principle wouldn’t work and print n<m and\n",
        "in the opposite case when if the number of workers greater than the number of alphabets the pigeonhole principle will work and at least two workers’ name will start with the same letter\n",
        "**bold text**"
      ],
      "metadata": {
        "id": "fTflqEAhnT58"
      }
    },
    {
      "cell_type": "code",
      "source": [
        "\n",
        "import numpy as np\n",
        "Workers = 40\n",
        " # Number of alphab\n",
        "et available in english\n",
        "alphabet = 26\n",
        "if workers < alphabet:\n",
        "    print(\"Pigeonholes principle does not work:n<m\")\n",
        "\n",
        "else:\n",
        "    print(\"the number of workers greater than the number of alphabets:n>m\")\n",
        "    Output = workers % alphabet\n",
        "    result = np.ceil(workers / alphabet)\n",
        "    if Output == 0:\n",
        "        print(\" Minimum number of workers having the same alphbets:\\n\", result)\n",
        "    else:\n",
        "        print(\"Minimum number of workers having the same alphbets:\\n \", result)"
      ],
      "metadata": {
        "colab": {
          "base_uri": "https://localhost:8080/"
        },
        "id": "fegUiYmooBXk",
        "outputId": "4318ea48-0ffd-42be-a277-dfc4d86c9bf4"
      },
      "execution_count": null,
      "outputs": [
        {
          "output_type": "stream",
          "name": "stdout",
          "text": [
            "n>m\n",
            "Minimum number of workers having the same alphbets:\n",
            "  2.0\n"
          ]
        }
      ]
    }
  ]
}