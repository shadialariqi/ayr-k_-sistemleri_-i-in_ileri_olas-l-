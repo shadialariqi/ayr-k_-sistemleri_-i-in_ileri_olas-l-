{
  "nbformat": 4,
  "nbformat_minor": 0,
  "metadata": {
    "colab": {
      "provenance": [],
      "authorship_tag": "ABX9TyM5EUG6VeTE0SlkiwsQR0Is",
      "include_colab_link": true
    },
    "kernelspec": {
      "name": "python3",
      "display_name": "Python 3"
    },
    "language_info": {
      "name": "python"
    }
  },
  "cells": [
    {
      "cell_type": "markdown",
      "metadata": {
        "id": "view-in-github",
        "colab_type": "text"
      },
      "source": [
        "<a href=\"https://colab.research.google.com/github/shadialariqi/ayr-k_-sistemleri_-i-in_ileri_olas-l-/blob/main/conditional%20probability.ipynb\" target=\"_parent\"><img src=\"https://colab.research.google.com/assets/colab-badge.svg\" alt=\"Open In Colab\"/></a>"
      ]
    },
    {
      "cell_type": "code",
      "execution_count": 3,
      "metadata": {
        "colab": {
          "base_uri": "https://localhost:8080/"
        },
        "id": "Kl6H-dFrIDbf",
        "outputId": "c6f682e6-d7bd-4982-eeff-7cf686d7c3f0"
      },
      "outputs": [
        {
          "output_type": "stream",
          "name": "stdout",
          "text": [
            "The probability that both balls are red given that the first ball drawn is red is 0.50\n"
          ]
        }
      ],
      "source": [
        "# Define the events\n",
        "def conditional_probability():\n",
        "    # Total balls in the box\n",
        "    total_balls = 5\n",
        "    # Number of red balls\n",
        "    red_balls = 3\n",
        "    # Number of blue balls\n",
        "    blue_balls = 2\n",
        "\n",
        "    # Step 1: Calculate P(B) - the probability that the first ball drawn is red\n",
        "    P_B = red_balls / total_balls\n",
        "\n",
        "    # Step 2: Calculate P(A ∩ B) - the probability that both balls are red\n",
        "    # Probability of drawing the first red ball\n",
        "    P_first_red = red_balls / total_balls\n",
        "    # Probability of drawing the second red ball given the first was red\n",
        "    P_second_red_given_first_red = (red_balls - 1) / (total_balls - 1)\n",
        "\n",
        "    # Combined probability P(A ∩ B)\n",
        "    P_A_and_B = P_first_red * P_second_red_given_first_red\n",
        "\n",
        "    # Step 3: Calculate P(A|B) using the definition of conditional probability\n",
        "    P_A_given_B = P_A_and_B / P_B\n",
        "\n",
        "    return P_A_given_B\n",
        "\n",
        "# Execute the function and print the result\n",
        "result = conditional_probability()\n",
        "print(f\"The probability that both balls are red given that the first ball drawn is red is {result:.2f}\")\n"
      ]
    },
    {
      "cell_type": "markdown",
      "source": [
        "Problem:\n",
        "A box contains 3 red balls and 2 blue balls. Two balls are drawn at random without replacement. What is the probability that both balls are red given that the first ball drawn is red?\n",
        "\n",
        "Solution:\n",
        "To find this conditional probability, we can use the definition of conditional probability:\n",
        "\n",
        "*P(A∣B)= P(A∩B)/P(B)*\n",
        "​\n",
        "\n",
        "where:\n",
        "A is the event \"both balls are red\"\n",
        "\n",
        "B is the event \"the first ball drawn is red\"\n",
        "\n",
        "# Step 1: Calculate\n",
        "\n",
        "P(B)The probability that the first ball drawn is red:\n",
        "\n",
        "\n",
        "*P(B)= 3/5*\n",
        "\n",
        "\n",
        "# Step 2: Calculate\n",
        "\n",
        "P(A∩B) The probability that both balls are red ( the first ball is red and the second ball is red given the first was red):\n",
        "\n",
        "The probability that the first ball is red is (3/5).\n",
        "\n",
        "there are now 2 red balls and 4 balls left in total. So, the probability that the second ball drawn is (2/4)=(1/2) .\n",
        "\n",
        "# Therefore, the combined probability\n",
        "P(A∩B) is:first red\n",
        "\n",
        "*P(A∩B)=P(first red) × P(second red | first red)=* (3/5)*(1/2)=3/10  \n",
        "\n",
        "# Step 3: Calculate P(A∣B)\n",
        "Using the definition of conditional probability:\n",
        "\n",
        "P(A∣B)= P(A∩B)/P(B)= ((3/10)/(3/5))=(3/10)*(5/3)=(15/30)=1/2\n",
        "\n"
      ],
      "metadata": {
        "id": "_4S8tASPIXYa"
      }
    }
  ]
}