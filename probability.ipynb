{
  "nbformat": 4,
  "nbformat_minor": 0,
  "metadata": {
    "colab": {
      "provenance": [],
      "authorship_tag": "ABX9TyPcZiBj1ys4L4tLnaWhlIes",
      "include_colab_link": true
    },
    "kernelspec": {
      "name": "python3",
      "display_name": "Python 3"
    },
    "language_info": {
      "name": "python"
    }
  },
  "cells": [
    {
      "cell_type": "markdown",
      "metadata": {
        "id": "view-in-github",
        "colab_type": "text"
      },
      "source": [
        "<a href=\"https://colab.research.google.com/github/shadialariqi/ayr-k_-sistemleri_-i-in_ileri_olas-l-/blob/main/probability.ipynb\" target=\"_parent\"><img src=\"https://colab.research.google.com/assets/colab-badge.svg\" alt=\"Open In Colab\"/></a>"
      ]
    },
    {
      "cell_type": "markdown",
      "source": [],
      "metadata": {
        "id": "o28Uf4G8lPM_"
      }
    },
    {
      "cell_type": "markdown",
      "source": [
        "# homework 3\n",
        "# Q1 Suppose you have a standard deck of 52 playing cards. What is the probability of drawing a red card or a red face card (jack, queen, or king)?\n",
        "\n",
        "Solution:\n",
        "\n",
        "•\tFirst, the total number of cards is 52.\n",
        "\n",
        "•\tThere are 26 red cards (13 hearts and 13 diamonds).\n",
        "\n",
        "•\tThere are 12 face cards in total (4 jacks, 4 queens, and 4 kings).and there are 6 cards that are both red and face cards (2 red jacks, 2 red queens, and 2 red kings).\n",
        "\n",
        "Total number of favorable outcomes = 26 + 12 - 6 = 32\n",
        "Probability= 32/52 = 8/13=61.5%\n",
        "\n",
        "\n",
        "# Q2 what is the probability of getting a hearts\n",
        "  P(hearts) = 13/52 = 25%\n"
      ],
      "metadata": {
        "id": "Cc5YtMRblRtL"
      }
    },
    {
      "cell_type": "code",
      "source": [
        "# Total number of cards\n",
        "total_cards = 52\n",
        "\n",
        "# Number of red cards\n",
        "red_cards = 26\n",
        "\n",
        "# Number of face cards\n",
        "face_cards = 12 - 6  # Subtract red face cards to avoid double counting\n",
        "\n",
        "# Total favorable outcomes\n",
        "favorable_outcomes = red_cards + face_cards\n",
        "\n",
        "# Probability\n",
        "probability = favorable_outcomes / total_cards\n",
        "print(\"Probability of drawing a red card or a face card:\", round(probability,3)*100,\"%\")\n",
        "\n",
        "# Number of heart cards\n",
        "heart_cards = 13\n",
        "heart_probability = 13/52\n",
        "print('Probability of drawing a heart cards',round(heart_probability,2)*100,\"%\")"
      ],
      "metadata": {
        "colab": {
          "base_uri": "https://localhost:8080/"
        },
        "id": "eB_bv5c3mvk5",
        "outputId": "9ce4bb16-a51a-49e4-8b52-6ca760b2869d"
      },
      "execution_count": 1,
      "outputs": [
        {
          "output_type": "stream",
          "name": "stdout",
          "text": [
            "Probability of drawing a red card or a face card: 61.5 %\n",
            "Probability of drawing a heart cards 25.0 %\n"
          ]
        }
      ]
    }
  ]
}